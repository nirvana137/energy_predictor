{
 "cells": [
  {
   "cell_type": "code",
   "execution_count": 3,
   "metadata": {
    "collapsed": true
   },
   "outputs": [],
   "source": [
    "import pandas as pd\n",
    "import numpy as np"
   ]
  },
  {
   "cell_type": "code",
   "execution_count": 4,
   "metadata": {
    "collapsed": true
   },
   "outputs": [],
   "source": [
    "data = pd.read_csv('D:/datasets/energy_dataset/train_dataset.csv')"
   ]
  },
  {
   "cell_type": "code",
   "execution_count": 5,
   "metadata": {},
   "outputs": [
    {
     "data": {
      "text/html": [
       "<div>\n",
       "<style>\n",
       "    .dataframe thead tr:only-child th {\n",
       "        text-align: right;\n",
       "    }\n",
       "\n",
       "    .dataframe thead th {\n",
       "        text-align: left;\n",
       "    }\n",
       "\n",
       "    .dataframe tbody tr th {\n",
       "        vertical-align: top;\n",
       "    }\n",
       "</style>\n",
       "<table border=\"1\" class=\"dataframe\">\n",
       "  <thead>\n",
       "    <tr style=\"text-align: right;\">\n",
       "      <th></th>\n",
       "      <th>Observation</th>\n",
       "      <th>T1</th>\n",
       "      <th>RH_1</th>\n",
       "      <th>T2</th>\n",
       "      <th>RH_2</th>\n",
       "      <th>T3</th>\n",
       "      <th>RH_3</th>\n",
       "      <th>T4</th>\n",
       "      <th>RH_4</th>\n",
       "      <th>T5</th>\n",
       "      <th>...</th>\n",
       "      <th>RH_8</th>\n",
       "      <th>T9</th>\n",
       "      <th>RH_9</th>\n",
       "      <th>T_out</th>\n",
       "      <th>Press_mm_hg</th>\n",
       "      <th>RH_out</th>\n",
       "      <th>Windspeed</th>\n",
       "      <th>Visibility</th>\n",
       "      <th>Tdewpoint</th>\n",
       "      <th>Energy</th>\n",
       "    </tr>\n",
       "  </thead>\n",
       "  <tbody>\n",
       "    <tr>\n",
       "      <th>count</th>\n",
       "      <td>15780.000000</td>\n",
       "      <td>15780.000000</td>\n",
       "      <td>15780.000000</td>\n",
       "      <td>15780.000000</td>\n",
       "      <td>15780.000000</td>\n",
       "      <td>15780.000000</td>\n",
       "      <td>15780.000000</td>\n",
       "      <td>15780.000000</td>\n",
       "      <td>15780.000000</td>\n",
       "      <td>15780.000000</td>\n",
       "      <td>...</td>\n",
       "      <td>15780.000000</td>\n",
       "      <td>15780.000000</td>\n",
       "      <td>15780.000000</td>\n",
       "      <td>15780.000000</td>\n",
       "      <td>15780.000000</td>\n",
       "      <td>15780.000000</td>\n",
       "      <td>15780.000000</td>\n",
       "      <td>15780.000000</td>\n",
       "      <td>15780.000000</td>\n",
       "      <td>15780.000000</td>\n",
       "    </tr>\n",
       "    <tr>\n",
       "      <th>mean</th>\n",
       "      <td>9000.500000</td>\n",
       "      <td>21.683008</td>\n",
       "      <td>40.263077</td>\n",
       "      <td>20.339386</td>\n",
       "      <td>40.426604</td>\n",
       "      <td>22.265359</td>\n",
       "      <td>39.242550</td>\n",
       "      <td>20.853829</td>\n",
       "      <td>39.037623</td>\n",
       "      <td>19.591562</td>\n",
       "      <td>...</td>\n",
       "      <td>42.934090</td>\n",
       "      <td>19.489357</td>\n",
       "      <td>41.559527</td>\n",
       "      <td>7.414789</td>\n",
       "      <td>755.514104</td>\n",
       "      <td>79.756982</td>\n",
       "      <td>4.041824</td>\n",
       "      <td>38.378577</td>\n",
       "      <td>3.765539</td>\n",
       "      <td>97.294043</td>\n",
       "    </tr>\n",
       "    <tr>\n",
       "      <th>std</th>\n",
       "      <td>4555.437959</td>\n",
       "      <td>1.613157</td>\n",
       "      <td>3.983819</td>\n",
       "      <td>2.199896</td>\n",
       "      <td>4.085470</td>\n",
       "      <td>2.013391</td>\n",
       "      <td>3.247703</td>\n",
       "      <td>2.046331</td>\n",
       "      <td>4.337781</td>\n",
       "      <td>1.849086</td>\n",
       "      <td>...</td>\n",
       "      <td>5.223342</td>\n",
       "      <td>2.020488</td>\n",
       "      <td>4.135306</td>\n",
       "      <td>5.321081</td>\n",
       "      <td>7.385701</td>\n",
       "      <td>14.877160</td>\n",
       "      <td>2.447902</td>\n",
       "      <td>11.810273</td>\n",
       "      <td>4.202025</td>\n",
       "      <td>100.932234</td>\n",
       "    </tr>\n",
       "    <tr>\n",
       "      <th>min</th>\n",
       "      <td>1111.000000</td>\n",
       "      <td>16.790000</td>\n",
       "      <td>27.023333</td>\n",
       "      <td>16.100000</td>\n",
       "      <td>20.463333</td>\n",
       "      <td>17.200000</td>\n",
       "      <td>28.766667</td>\n",
       "      <td>15.100000</td>\n",
       "      <td>27.660000</td>\n",
       "      <td>15.330000</td>\n",
       "      <td>...</td>\n",
       "      <td>29.600000</td>\n",
       "      <td>14.890000</td>\n",
       "      <td>29.166667</td>\n",
       "      <td>-5.000000</td>\n",
       "      <td>729.300000</td>\n",
       "      <td>24.000000</td>\n",
       "      <td>0.000000</td>\n",
       "      <td>1.000000</td>\n",
       "      <td>-6.600000</td>\n",
       "      <td>10.000000</td>\n",
       "    </tr>\n",
       "    <tr>\n",
       "      <th>25%</th>\n",
       "      <td>5055.750000</td>\n",
       "      <td>20.730000</td>\n",
       "      <td>37.360000</td>\n",
       "      <td>18.790000</td>\n",
       "      <td>37.890000</td>\n",
       "      <td>20.790000</td>\n",
       "      <td>36.900000</td>\n",
       "      <td>19.500000</td>\n",
       "      <td>35.530000</td>\n",
       "      <td>18.270000</td>\n",
       "      <td>...</td>\n",
       "      <td>39.066667</td>\n",
       "      <td>18.000000</td>\n",
       "      <td>38.530000</td>\n",
       "      <td>3.680000</td>\n",
       "      <td>750.933333</td>\n",
       "      <td>70.166667</td>\n",
       "      <td>2.000000</td>\n",
       "      <td>29.000000</td>\n",
       "      <td>0.900000</td>\n",
       "      <td>50.000000</td>\n",
       "    </tr>\n",
       "    <tr>\n",
       "      <th>50%</th>\n",
       "      <td>9000.500000</td>\n",
       "      <td>21.600000</td>\n",
       "      <td>39.663333</td>\n",
       "      <td>20.000000</td>\n",
       "      <td>40.500000</td>\n",
       "      <td>22.100000</td>\n",
       "      <td>38.560000</td>\n",
       "      <td>20.666667</td>\n",
       "      <td>38.433333</td>\n",
       "      <td>19.390000</td>\n",
       "      <td>...</td>\n",
       "      <td>42.376214</td>\n",
       "      <td>19.390000</td>\n",
       "      <td>40.900000</td>\n",
       "      <td>6.930000</td>\n",
       "      <td>756.100000</td>\n",
       "      <td>83.666667</td>\n",
       "      <td>3.666667</td>\n",
       "      <td>40.000000</td>\n",
       "      <td>3.470000</td>\n",
       "      <td>60.000000</td>\n",
       "    </tr>\n",
       "    <tr>\n",
       "      <th>75%</th>\n",
       "      <td>12945.250000</td>\n",
       "      <td>22.600000</td>\n",
       "      <td>43.090000</td>\n",
       "      <td>21.530000</td>\n",
       "      <td>43.290000</td>\n",
       "      <td>23.290000</td>\n",
       "      <td>41.760000</td>\n",
       "      <td>22.100000</td>\n",
       "      <td>42.193333</td>\n",
       "      <td>20.633333</td>\n",
       "      <td>...</td>\n",
       "      <td>46.560000</td>\n",
       "      <td>20.600000</td>\n",
       "      <td>44.363333</td>\n",
       "      <td>10.400000</td>\n",
       "      <td>760.900000</td>\n",
       "      <td>91.666667</td>\n",
       "      <td>5.500000</td>\n",
       "      <td>40.000000</td>\n",
       "      <td>6.550000</td>\n",
       "      <td>100.000000</td>\n",
       "    </tr>\n",
       "    <tr>\n",
       "      <th>max</th>\n",
       "      <td>16890.000000</td>\n",
       "      <td>26.260000</td>\n",
       "      <td>63.360000</td>\n",
       "      <td>29.856667</td>\n",
       "      <td>56.026667</td>\n",
       "      <td>29.236000</td>\n",
       "      <td>50.163333</td>\n",
       "      <td>26.200000</td>\n",
       "      <td>51.090000</td>\n",
       "      <td>25.745000</td>\n",
       "      <td>...</td>\n",
       "      <td>58.780000</td>\n",
       "      <td>24.500000</td>\n",
       "      <td>53.326667</td>\n",
       "      <td>26.100000</td>\n",
       "      <td>772.300000</td>\n",
       "      <td>100.000000</td>\n",
       "      <td>14.000000</td>\n",
       "      <td>66.000000</td>\n",
       "      <td>15.500000</td>\n",
       "      <td>850.000000</td>\n",
       "    </tr>\n",
       "  </tbody>\n",
       "</table>\n",
       "<p>8 rows × 26 columns</p>\n",
       "</div>"
      ],
      "text/plain": [
       "        Observation            T1          RH_1            T2          RH_2  \\\n",
       "count  15780.000000  15780.000000  15780.000000  15780.000000  15780.000000   \n",
       "mean    9000.500000     21.683008     40.263077     20.339386     40.426604   \n",
       "std     4555.437959      1.613157      3.983819      2.199896      4.085470   \n",
       "min     1111.000000     16.790000     27.023333     16.100000     20.463333   \n",
       "25%     5055.750000     20.730000     37.360000     18.790000     37.890000   \n",
       "50%     9000.500000     21.600000     39.663333     20.000000     40.500000   \n",
       "75%    12945.250000     22.600000     43.090000     21.530000     43.290000   \n",
       "max    16890.000000     26.260000     63.360000     29.856667     56.026667   \n",
       "\n",
       "                 T3          RH_3            T4          RH_4            T5  \\\n",
       "count  15780.000000  15780.000000  15780.000000  15780.000000  15780.000000   \n",
       "mean      22.265359     39.242550     20.853829     39.037623     19.591562   \n",
       "std        2.013391      3.247703      2.046331      4.337781      1.849086   \n",
       "min       17.200000     28.766667     15.100000     27.660000     15.330000   \n",
       "25%       20.790000     36.900000     19.500000     35.530000     18.270000   \n",
       "50%       22.100000     38.560000     20.666667     38.433333     19.390000   \n",
       "75%       23.290000     41.760000     22.100000     42.193333     20.633333   \n",
       "max       29.236000     50.163333     26.200000     51.090000     25.745000   \n",
       "\n",
       "           ...               RH_8            T9          RH_9         T_out  \\\n",
       "count      ...       15780.000000  15780.000000  15780.000000  15780.000000   \n",
       "mean       ...          42.934090     19.489357     41.559527      7.414789   \n",
       "std        ...           5.223342      2.020488      4.135306      5.321081   \n",
       "min        ...          29.600000     14.890000     29.166667     -5.000000   \n",
       "25%        ...          39.066667     18.000000     38.530000      3.680000   \n",
       "50%        ...          42.376214     19.390000     40.900000      6.930000   \n",
       "75%        ...          46.560000     20.600000     44.363333     10.400000   \n",
       "max        ...          58.780000     24.500000     53.326667     26.100000   \n",
       "\n",
       "        Press_mm_hg        RH_out     Windspeed    Visibility     Tdewpoint  \\\n",
       "count  15780.000000  15780.000000  15780.000000  15780.000000  15780.000000   \n",
       "mean     755.514104     79.756982      4.041824     38.378577      3.765539   \n",
       "std        7.385701     14.877160      2.447902     11.810273      4.202025   \n",
       "min      729.300000     24.000000      0.000000      1.000000     -6.600000   \n",
       "25%      750.933333     70.166667      2.000000     29.000000      0.900000   \n",
       "50%      756.100000     83.666667      3.666667     40.000000      3.470000   \n",
       "75%      760.900000     91.666667      5.500000     40.000000      6.550000   \n",
       "max      772.300000    100.000000     14.000000     66.000000     15.500000   \n",
       "\n",
       "             Energy  \n",
       "count  15780.000000  \n",
       "mean      97.294043  \n",
       "std      100.932234  \n",
       "min       10.000000  \n",
       "25%       50.000000  \n",
       "50%       60.000000  \n",
       "75%      100.000000  \n",
       "max      850.000000  \n",
       "\n",
       "[8 rows x 26 columns]"
      ]
     },
     "execution_count": 5,
     "metadata": {},
     "output_type": "execute_result"
    }
   ],
   "source": [
    "data.describe()\n"
   ]
  },
  {
   "cell_type": "code",
   "execution_count": 6,
   "metadata": {
    "collapsed": true
   },
   "outputs": [],
   "source": [
    "x = data.drop(['Energy'], axis = 1)\n",
    "y = data['Energy']"
   ]
  },
  {
   "cell_type": "code",
   "execution_count": 7,
   "metadata": {
    "collapsed": true
   },
   "outputs": [],
   "source": [
    "from sklearn.preprocessing import Normalizer"
   ]
  },
  {
   "cell_type": "code",
   "execution_count": 8,
   "metadata": {
    "collapsed": true
   },
   "outputs": [],
   "source": [
    "transformer = Normalizer().fit(x)\n",
    "x = transformer.transform(x)"
   ]
  },
  {
   "cell_type": "code",
   "execution_count": 9,
   "metadata": {
    "collapsed": true
   },
   "outputs": [],
   "source": [
    "from sklearn.model_selection import train_test_split"
   ]
  },
  {
   "cell_type": "code",
   "execution_count": 10,
   "metadata": {
    "collapsed": true
   },
   "outputs": [],
   "source": [
    "x_train, x_test, y_train, y_test = train_test_split(x, y, test_size = 0.2 , random_state = 42)"
   ]
  },
  {
   "cell_type": "code",
   "execution_count": 11,
   "metadata": {},
   "outputs": [
    {
     "data": {
      "text/plain": [
       "Energy         1.000000\n",
       "T2             0.116316\n",
       "T6             0.113442\n",
       "T_out          0.094884\n",
       "Windspeed      0.085429\n",
       "RH_1           0.084061\n",
       "T3             0.077231\n",
       "T1             0.052003\n",
       "T4             0.036973\n",
       "T8             0.036721\n",
       "RH_3           0.034955\n",
       "T7             0.021311\n",
       "RH_4           0.015527\n",
       "T5             0.015011\n",
       "Tdewpoint      0.012949\n",
       "RH_5           0.010213\n",
       "T9             0.005882\n",
       "Observation   -0.000224\n",
       "Visibility    -0.003322\n",
       "Press_mm_hg   -0.035648\n",
       "RH_9          -0.054764\n",
       "RH_7          -0.056142\n",
       "RH_2          -0.060233\n",
       "RH_6          -0.079497\n",
       "RH_8          -0.094996\n",
       "RH_out        -0.148250\n",
       "Name: Energy, dtype: float64"
      ]
     },
     "execution_count": 11,
     "metadata": {},
     "output_type": "execute_result"
    }
   ],
   "source": [
    "corr_matrix= data.corr()\n",
    "corr_matrix['Energy'].sort_values(ascending=False)"
   ]
  },
  {
   "cell_type": "code",
   "execution_count": 170,
   "metadata": {},
   "outputs": [],
   "source": [
    "from sklearn.neighbors import KNeighborsRegressor\n",
    "# neigh = KNeighborsRegressor(n_neighbors= 250)\n",
    "\n",
    "di = {}\n",
    "\n",
    "for i in range(1, 500):\n",
    "    neigh = KNeighborsRegressor(n_neighbors= i)\n",
    "    neigh.fit(x_train, y_train)\n",
    "    y_pred = neigh.predict(x_test)\n",
    "    r2 = r2_score(y_test, y_pred)\n",
    "#     print(r2)\n",
    "    di[i]= r2\n",
    "    \n",
    "  "
   ]
  },
  {
   "cell_type": "code",
   "execution_count": 177,
   "metadata": {},
   "outputs": [
    {
     "data": {
      "text/plain": [
       "131"
      ]
     },
     "execution_count": 177,
     "metadata": {},
     "output_type": "execute_result"
    }
   ],
   "source": [
    "import operator\n",
    "max(di.items(), key=operator.itemgetter(1))[0]"
   ]
  },
  {
   "cell_type": "code",
   "execution_count": 178,
   "metadata": {},
   "outputs": [
    {
     "data": {
      "text/plain": [
       "KNeighborsRegressor(algorithm='auto', leaf_size=30, metric='minkowski',\n",
       "          metric_params=None, n_jobs=None, n_neighbors=131, p=2,\n",
       "          weights='uniform')"
      ]
     },
     "execution_count": 178,
     "metadata": {},
     "output_type": "execute_result"
    }
   ],
   "source": [
    "neigh = KNeighborsRegressor(n_neighbors= 131)\n",
    "neigh.fit(x_train, y_train)"
   ]
  },
  {
   "cell_type": "code",
   "execution_count": 179,
   "metadata": {
    "collapsed": true
   },
   "outputs": [],
   "source": [
    "y_pred = neigh.predict(x_test)"
   ]
  },
  {
   "cell_type": "code",
   "execution_count": 180,
   "metadata": {
    "collapsed": true
   },
   "outputs": [],
   "source": [
    "from sklearn.metrics import r2_score"
   ]
  },
  {
   "cell_type": "code",
   "execution_count": 181,
   "metadata": {},
   "outputs": [
    {
     "data": {
      "text/plain": [
       "0.01399762400747151"
      ]
     },
     "execution_count": 181,
     "metadata": {},
     "output_type": "execute_result"
    }
   ],
   "source": [
    "r2_score(y_test, y_pred)"
   ]
  },
  {
   "cell_type": "code",
   "execution_count": 142,
   "metadata": {
    "collapsed": true
   },
   "outputs": [],
   "source": [
    "from sklearn.linear_model import LinearRegression"
   ]
  },
  {
   "cell_type": "code",
   "execution_count": 143,
   "metadata": {},
   "outputs": [],
   "source": [
    "reg = LinearRegression().fit(x_train, y_train)"
   ]
  },
  {
   "cell_type": "code",
   "execution_count": 144,
   "metadata": {},
   "outputs": [
    {
     "data": {
      "text/plain": [
       "0.09037574756826616"
      ]
     },
     "execution_count": 144,
     "metadata": {},
     "output_type": "execute_result"
    }
   ],
   "source": [
    "reg.score(x_train, y_train)"
   ]
  },
  {
   "cell_type": "code",
   "execution_count": 147,
   "metadata": {},
   "outputs": [],
   "source": [
    "y_pred_reg = reg.predict(x_test)"
   ]
  },
  {
   "cell_type": "code",
   "execution_count": 182,
   "metadata": {},
   "outputs": [
    {
     "data": {
      "text/plain": [
       "0.07230301717978738"
      ]
     },
     "execution_count": 182,
     "metadata": {},
     "output_type": "execute_result"
    }
   ],
   "source": [
    "r2_score(y_test, y_pred_reg)"
   ]
  },
  {
   "cell_type": "code",
   "execution_count": 183,
   "metadata": {
    "collapsed": true
   },
   "outputs": [],
   "source": [
    "from sklearn.ensemble import RandomForestRegressor"
   ]
  },
  {
   "cell_type": "code",
   "execution_count": null,
   "metadata": {
    "collapsed": true
   },
   "outputs": [],
   "source": [
    "regr = RandomForestRegressor(max_depth=100, random_state=10,\n",
    "                             n_estimators=750)"
   ]
  },
  {
   "cell_type": "code",
   "execution_count": null,
   "metadata": {},
   "outputs": [],
   "source": [
    "regr.fit(x_train, y_train)"
   ]
  },
  {
   "cell_type": "code",
   "execution_count": null,
   "metadata": {},
   "outputs": [],
   "source": [
    "y_pred_rn = regr.predict(x_test)"
   ]
  },
  {
   "cell_type": "code",
   "execution_count": null,
   "metadata": {},
   "outputs": [],
   "source": [
    "r2_score(y_test, y_pred_rn)"
   ]
  },
  {
   "cell_type": "code",
   "execution_count": null,
   "metadata": {
    "collapsed": true
   },
   "outputs": [],
   "source": []
  }
 ],
 "metadata": {
  "kernelspec": {
   "display_name": "Python 3",
   "language": "python",
   "name": "python3"
  },
  "language_info": {
   "codemirror_mode": {
    "name": "ipython",
    "version": 3
   },
   "file_extension": ".py",
   "mimetype": "text/x-python",
   "name": "python",
   "nbconvert_exporter": "python",
   "pygments_lexer": "ipython3",
   "version": "3.6.3"
  }
 },
 "nbformat": 4,
 "nbformat_minor": 2
}
